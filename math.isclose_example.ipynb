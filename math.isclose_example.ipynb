{
 "cells": [
  {
   "cell_type": "markdown",
   "metadata": {},
   "source": [
    "# ``math.isclose()`` example: Newton's method\n",
    "\n",
    "Newton's method of succesive approximations can be used to compute the square root. \n",
    "\n",
    "> **How Newton's method works**\n",
    ">\n",
    "> To compute `sqrt(n)`, the algorithm starts with a starting `guess=n/2` and a `better_guess`: the average of `guess` and `n/guess`. If those two guesses are equal or very close, the square root is the `better_guess`. If not, the `better_guess` is used as the `guess`, and a new `better_guess` is computed as the average of that and `n/guess`. This process quickly converges to a very good approximation of the square root.\n",
    "\n",
    "The implementation below uses the `math.isclose()` function (new in Python 3.5) to test whether the `better_guess` is close to the current one, which means further approximations will not be useful and the `better_guess` is an acceptable result."
   ]
  },
  {
   "cell_type": "code",
   "execution_count": 1,
   "metadata": {
    "collapsed": false
   },
   "outputs": [],
   "source": [
    "import math\n",
    "\n",
    "def newton_sqrt(n, verbose=False):\n",
    "    guess = n / 2\n",
    "    while True:\n",
    "        if verbose: print('guess ->', guess)\n",
    "        better_guess = (guess + n/guess) / 2\n",
    "        if math.isclose(guess, better_guess):\n",
    "            return better_guess\n",
    "        guess = better_guess"
   ]
  },
  {
   "cell_type": "markdown",
   "metadata": {},
   "source": [
    "Sample use:"
   ]
  },
  {
   "cell_type": "code",
   "execution_count": 2,
   "metadata": {
    "collapsed": false
   },
   "outputs": [
    {
     "data": {
      "text/plain": [
       "10.0"
      ]
     },
     "execution_count": 2,
     "metadata": {},
     "output_type": "execute_result"
    }
   ],
   "source": [
    "newton_sqrt(100)"
   ]
  },
  {
   "cell_type": "markdown",
   "metadata": {},
   "source": [
    "Using `verbose=True`, we can see how quickly Newton's algorithm converges to the solution:"
   ]
  },
  {
   "cell_type": "code",
   "execution_count": 3,
   "metadata": {
    "collapsed": false
   },
   "outputs": [
    {
     "name": "stdout",
     "output_type": "stream",
     "text": [
      "guess -> 50.0\n",
      "guess -> 26.0\n",
      "guess -> 14.923076923076923\n",
      "guess -> 10.812053925455988\n",
      "guess -> 10.030495203889796\n",
      "guess -> 10.000046356507898\n",
      "guess -> 10.000000000107445\n"
     ]
    },
    {
     "data": {
      "text/plain": [
       "10.0"
      ]
     },
     "execution_count": 3,
     "metadata": {},
     "output_type": "execute_result"
    }
   ],
   "source": [
    "newton_sqrt(100, True)"
   ]
  },
  {
   "cell_type": "markdown",
   "metadata": {},
   "source": [
    "Applying `newton_sqrt` to numbers from 9 to 16, we see that some results are a little different from those from `math.sqrt`."
   ]
  },
  {
   "cell_type": "code",
   "execution_count": 4,
   "metadata": {
    "collapsed": false
   },
   "outputs": [
    {
     "name": "stdout",
     "output_type": "stream",
     "text": [
      "sqrt( 9): 3.00000000000000000000 3.00000000000000000000 0.00000000000000000000\n",
      "sqrt(10): 3.16227766016837907870 3.16227766016837952279 -0.00000000000000044409\n",
      "sqrt(11): 3.31662479035539980998 3.31662479035539980998 0.00000000000000000000\n",
      "sqrt(12): 3.46410161513775438635 3.46410161513775438635 0.00000000000000000000\n",
      "sqrt(13): 3.60555127546398956895 3.60555127546398912486 0.00000000000000044409\n",
      "sqrt(14): 3.74165738677394132949 3.74165738677394132949 0.00000000000000000000\n",
      "sqrt(15): 3.87298334620741702139 3.87298334620741702139 0.00000000000000000000\n",
      "sqrt(16): 4.00000000000000000000 4.00000000000000000000 0.00000000000000000000\n"
     ]
    }
   ],
   "source": [
    "for n in range(9, 17):\n",
    "    computed = newton_sqrt(n)\n",
    "    expected = math.sqrt(n)\n",
    "    delta = computed - expected\n",
    "    print('sqrt({:2d}): {:.20f} {:.20f} {:.20f}'.format(n, computed, expected, delta))"
   ]
  }
 ],
 "metadata": {
  "kernelspec": {
   "display_name": "Python 3",
   "language": "python",
   "name": "python3"
  },
  "language_info": {
   "codemirror_mode": {
    "name": "ipython",
    "version": 3
   },
   "file_extension": ".py",
   "mimetype": "text/x-python",
   "name": "python",
   "nbconvert_exporter": "python",
   "pygments_lexer": "ipython3",
   "version": "3.5.1"
  }
 },
 "nbformat": 4,
 "nbformat_minor": 0
}
